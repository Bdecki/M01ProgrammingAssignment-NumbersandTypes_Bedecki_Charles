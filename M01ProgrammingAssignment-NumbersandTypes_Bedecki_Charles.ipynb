{
 "cells": [
  {
   "cell_type": "code",
   "execution_count": 3,
   "id": "831bb384",
   "metadata": {},
   "outputs": [],
   "source": [
    "3.1\n",
    "nos = 60  # number of seconds\n",
    "nom = 60  # number of minutes"
   ]
  },
  {
   "cell_type": "code",
   "execution_count": null,
   "id": "7bdc12a4",
   "metadata": {},
   "outputs": [],
   "source": [
    "3.2\n",
    "nos = 60  # number of seconds\n",
    "nom = 60  # number of minutes\n",
    "\n",
    "seconds_per_hour = nos*nom"
   ]
  },
  {
   "cell_type": "code",
   "execution_count": 7,
   "id": "3b75a0a8",
   "metadata": {},
   "outputs": [],
   "source": [
    "3.3\n",
    "nos = 60  # number of seconds\n",
    "nom = 60  # number of minutes\n",
    "\n",
    "seconds_per_hour = nos*nom\n",
    "\n",
    "seconds_per_day = seconds_per_hour * 24"
   ]
  },
  {
   "cell_type": "code",
   "execution_count": 6,
   "id": "e5d864d5",
   "metadata": {},
   "outputs": [],
   "source": [
    "3.4\n",
    "nos = 60  # number of seconds\n",
    "nom = 60  # number of minutes\n",
    "\n",
    "seconds_per_hour = nos*nom\n",
    "\n",
    "seconds_per_day = seconds_per_hour * 24"
   ]
  },
  {
   "cell_type": "code",
   "execution_count": 5,
   "id": "bf54c4c4",
   "metadata": {},
   "outputs": [
    {
     "name": "stdout",
     "output_type": "stream",
     "text": [
      "24.0\n"
     ]
    }
   ],
   "source": [
    "3.5\n",
    "nos = 60  # number of seconds\n",
    "nom = 60  # number of minutes\n",
    "\n",
    "seconds_per_hour = nos*nom\n",
    "\n",
    "seconds_per_day = seconds_per_hour * 24\n",
    "\n",
    "new_seconds_per_day = seconds_per_day / seconds_per_hour\n",
    "\n",
    "print(new_seconds_per_day)"
   ]
  },
  {
   "cell_type": "code",
   "execution_count": null,
   "id": "1379d43e",
   "metadata": {},
   "outputs": [],
   "source": [
    "3.6\n",
    "nos = 60  # number of seconds\n",
    "nom = 60  # number of minutes\n",
    "\n",
    "seconds_per_hour = nos*nom\n",
    "\n",
    "seconds_per_day = seconds_per_hour * 24\n",
    "\n",
    "new_seconds_per_day = seconds_per_day // seconds_per_hour\n",
    "\n",
    "print(new_seconds_per_day)\n",
    "\n",
    "#yes, both numbers agreed in questions 3.5 & 3.6\n"
   ]
  },
  {
   "cell_type": "markdown",
   "id": "33a27875",
   "metadata": {},
   "source": []
  }
 ],
 "metadata": {
  "kernelspec": {
   "display_name": "Python 3 (ipykernel)",
   "language": "python",
   "name": "python3"
  },
  "language_info": {
   "codemirror_mode": {
    "name": "ipython",
    "version": 3
   },
   "file_extension": ".py",
   "mimetype": "text/x-python",
   "name": "python",
   "nbconvert_exporter": "python",
   "pygments_lexer": "ipython3",
   "version": "3.9.12"
  }
 },
 "nbformat": 4,
 "nbformat_minor": 5
}
